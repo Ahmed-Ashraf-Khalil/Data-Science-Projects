{
 "cells": [
  {
   "cell_type": "markdown",
   "id": "1e6ad801-cdc9-4fff-b2f8-ecd1a491f3ef",
   "metadata": {},
   "source": [
    "# Tools"
   ]
  },
  {
   "cell_type": "code",
   "execution_count": 1,
   "id": "ec028878-2ee1-4638-8820-d32781ca1140",
   "metadata": {},
   "outputs": [],
   "source": [
    "import pandas as pd\n",
    "import numpy as np\n",
    "import plotly.express as px\n",
    "import matplotlib.pyplot as plt\n",
    "\n",
    "from dash import Dash,Input, Output, State, dcc, html\n",
    "from jupyter_dash import JupyterDash"
   ]
  },
  {
   "cell_type": "markdown",
   "id": "4674fa5b-2dde-4de5-850c-064fd9accb86",
   "metadata": {},
   "source": [
    "# Reading data"
   ]
  },
  {
   "cell_type": "code",
   "execution_count": 2,
   "id": "6b81bd96-fb7d-4173-8e5f-628ee835cbaa",
   "metadata": {},
   "outputs": [
    {
     "data": {
      "text/html": [
       "<div>\n",
       "<style scoped>\n",
       "    .dataframe tbody tr th:only-of-type {\n",
       "        vertical-align: middle;\n",
       "    }\n",
       "\n",
       "    .dataframe tbody tr th {\n",
       "        vertical-align: top;\n",
       "    }\n",
       "\n",
       "    .dataframe thead th {\n",
       "        text-align: right;\n",
       "    }\n",
       "</style>\n",
       "<table border=\"1\" class=\"dataframe\">\n",
       "  <thead>\n",
       "    <tr style=\"text-align: right;\">\n",
       "      <th></th>\n",
       "      <th>index</th>\n",
       "      <th>date_added</th>\n",
       "      <th>latitude</th>\n",
       "      <th>longitude</th>\n",
       "      <th>country</th>\n",
       "      <th>city</th>\n",
       "      <th>rooms</th>\n",
       "      <th>bedrooms</th>\n",
       "      <th>bathrooms</th>\n",
       "      <th>area</th>\n",
       "      <th>price</th>\n",
       "      <th>property_type</th>\n",
       "      <th>page_url</th>\n",
       "      <th>purpose</th>\n",
       "    </tr>\n",
       "  </thead>\n",
       "  <tbody>\n",
       "    <tr>\n",
       "      <th>0</th>\n",
       "      <td>0</td>\n",
       "      <td>2019-10-17</td>\n",
       "      <td>-34.605880</td>\n",
       "      <td>-58.384949</td>\n",
       "      <td>Argentina</td>\n",
       "      <td>Capital Federal</td>\n",
       "      <td>7.0</td>\n",
       "      <td>7.0</td>\n",
       "      <td>2.0</td>\n",
       "      <td>140.00000</td>\n",
       "      <td>153000.0</td>\n",
       "      <td>Department</td>\n",
       "      <td>www.kaggle.com</td>\n",
       "      <td>For Sale</td>\n",
       "    </tr>\n",
       "    <tr>\n",
       "      <th>1</th>\n",
       "      <td>1</td>\n",
       "      <td>2019-10-17</td>\n",
       "      <td>-34.624056</td>\n",
       "      <td>-58.412110</td>\n",
       "      <td>Argentina</td>\n",
       "      <td>Capital Federal</td>\n",
       "      <td>2.0</td>\n",
       "      <td>1.0</td>\n",
       "      <td>2.0</td>\n",
       "      <td>70.00000</td>\n",
       "      <td>159000.0</td>\n",
       "      <td>Penthouse</td>\n",
       "      <td>www.kaggle.com</td>\n",
       "      <td>For Sale</td>\n",
       "    </tr>\n",
       "    <tr>\n",
       "      <th>2</th>\n",
       "      <td>2</td>\n",
       "      <td>2019-10-17</td>\n",
       "      <td>-34.593569</td>\n",
       "      <td>-58.427474</td>\n",
       "      <td>Argentina</td>\n",
       "      <td>Capital Federal</td>\n",
       "      <td>2.0</td>\n",
       "      <td>1.0</td>\n",
       "      <td>1.0</td>\n",
       "      <td>45.00000</td>\n",
       "      <td>125000.0</td>\n",
       "      <td>Penthouse</td>\n",
       "      <td>www.kaggle.com</td>\n",
       "      <td>For Sale</td>\n",
       "    </tr>\n",
       "    <tr>\n",
       "      <th>3</th>\n",
       "      <td>3</td>\n",
       "      <td>2019-10-17</td>\n",
       "      <td>-34.581294</td>\n",
       "      <td>-58.436754</td>\n",
       "      <td>Argentina</td>\n",
       "      <td>Capital Federal</td>\n",
       "      <td>2.0</td>\n",
       "      <td>1.0</td>\n",
       "      <td>1.0</td>\n",
       "      <td>85.00000</td>\n",
       "      <td>295000.0</td>\n",
       "      <td>Penthouse</td>\n",
       "      <td>www.kaggle.com</td>\n",
       "      <td>For Sale</td>\n",
       "    </tr>\n",
       "    <tr>\n",
       "      <th>4</th>\n",
       "      <td>4</td>\n",
       "      <td>2019-10-17</td>\n",
       "      <td>-34.914194</td>\n",
       "      <td>-57.938219</td>\n",
       "      <td>Argentina</td>\n",
       "      <td>Bs.As. G.B.A. Zona Sur</td>\n",
       "      <td>2.0</td>\n",
       "      <td>1.0</td>\n",
       "      <td>1.0</td>\n",
       "      <td>50.00000</td>\n",
       "      <td>40000.0</td>\n",
       "      <td>Penthouse</td>\n",
       "      <td>www.kaggle.com</td>\n",
       "      <td>For Sale</td>\n",
       "    </tr>\n",
       "    <tr>\n",
       "      <th>...</th>\n",
       "      <td>...</td>\n",
       "      <td>...</td>\n",
       "      <td>...</td>\n",
       "      <td>...</td>\n",
       "      <td>...</td>\n",
       "      <td>...</td>\n",
       "      <td>...</td>\n",
       "      <td>...</td>\n",
       "      <td>...</td>\n",
       "      <td>...</td>\n",
       "      <td>...</td>\n",
       "      <td>...</td>\n",
       "      <td>...</td>\n",
       "      <td>...</td>\n",
       "    </tr>\n",
       "    <tr>\n",
       "      <th>338048</th>\n",
       "      <td>191388</td>\n",
       "      <td>2019-07-24</td>\n",
       "      <td>33.668497</td>\n",
       "      <td>73.074160</td>\n",
       "      <td>Pakistan</td>\n",
       "      <td>Islamabad</td>\n",
       "      <td>1.0</td>\n",
       "      <td>3.0</td>\n",
       "      <td>0.0</td>\n",
       "      <td>313.63196</td>\n",
       "      <td>252.0</td>\n",
       "      <td>Upper Portion</td>\n",
       "      <td>www.zameen.com</td>\n",
       "      <td>For Rent</td>\n",
       "    </tr>\n",
       "    <tr>\n",
       "      <th>338049</th>\n",
       "      <td>191389</td>\n",
       "      <td>2019-07-24</td>\n",
       "      <td>33.668497</td>\n",
       "      <td>73.074160</td>\n",
       "      <td>Pakistan</td>\n",
       "      <td>Islamabad</td>\n",
       "      <td>7.0</td>\n",
       "      <td>2.0</td>\n",
       "      <td>0.0</td>\n",
       "      <td>313.63196</td>\n",
       "      <td>144.0</td>\n",
       "      <td>Upper Portion</td>\n",
       "      <td>www.zameen.com</td>\n",
       "      <td>For Rent</td>\n",
       "    </tr>\n",
       "    <tr>\n",
       "      <th>338050</th>\n",
       "      <td>191390</td>\n",
       "      <td>2019-07-24</td>\n",
       "      <td>33.676104</td>\n",
       "      <td>73.013842</td>\n",
       "      <td>Pakistan</td>\n",
       "      <td>Islamabad</td>\n",
       "      <td>1.0</td>\n",
       "      <td>6.0</td>\n",
       "      <td>6.0</td>\n",
       "      <td>505.85700</td>\n",
       "      <td>576.0</td>\n",
       "      <td>House</td>\n",
       "      <td>www.zameen.com</td>\n",
       "      <td>For Rent</td>\n",
       "    </tr>\n",
       "    <tr>\n",
       "      <th>338051</th>\n",
       "      <td>191391</td>\n",
       "      <td>2019-07-24</td>\n",
       "      <td>33.527944</td>\n",
       "      <td>73.161392</td>\n",
       "      <td>Pakistan</td>\n",
       "      <td>Islamabad</td>\n",
       "      <td>4.0</td>\n",
       "      <td>2.0</td>\n",
       "      <td>2.0</td>\n",
       "      <td>68.29083</td>\n",
       "      <td>90.0</td>\n",
       "      <td>Flat</td>\n",
       "      <td>www.zameen.com</td>\n",
       "      <td>For Rent</td>\n",
       "    </tr>\n",
       "    <tr>\n",
       "      <th>338052</th>\n",
       "      <td>191392</td>\n",
       "      <td>2019-07-24</td>\n",
       "      <td>33.649779</td>\n",
       "      <td>73.029385</td>\n",
       "      <td>Pakistan</td>\n",
       "      <td>Islamabad</td>\n",
       "      <td>7.0</td>\n",
       "      <td>3.0</td>\n",
       "      <td>1.0</td>\n",
       "      <td>0.00000</td>\n",
       "      <td>93.6</td>\n",
       "      <td>Upper Portion</td>\n",
       "      <td>www.zameen.com</td>\n",
       "      <td>For Rent</td>\n",
       "    </tr>\n",
       "  </tbody>\n",
       "</table>\n",
       "<p>338053 rows × 14 columns</p>\n",
       "</div>"
      ],
      "text/plain": [
       "         index  date_added   latitude  longitude    country  \\\n",
       "0            0  2019-10-17 -34.605880 -58.384949  Argentina   \n",
       "1            1  2019-10-17 -34.624056 -58.412110  Argentina   \n",
       "2            2  2019-10-17 -34.593569 -58.427474  Argentina   \n",
       "3            3  2019-10-17 -34.581294 -58.436754  Argentina   \n",
       "4            4  2019-10-17 -34.914194 -57.938219  Argentina   \n",
       "...        ...         ...        ...        ...        ...   \n",
       "338048  191388  2019-07-24  33.668497  73.074160   Pakistan   \n",
       "338049  191389  2019-07-24  33.668497  73.074160   Pakistan   \n",
       "338050  191390  2019-07-24  33.676104  73.013842   Pakistan   \n",
       "338051  191391  2019-07-24  33.527944  73.161392   Pakistan   \n",
       "338052  191392  2019-07-24  33.649779  73.029385   Pakistan   \n",
       "\n",
       "                          city  rooms  bedrooms  bathrooms       area  \\\n",
       "0              Capital Federal    7.0       7.0        2.0  140.00000   \n",
       "1              Capital Federal    2.0       1.0        2.0   70.00000   \n",
       "2              Capital Federal    2.0       1.0        1.0   45.00000   \n",
       "3              Capital Federal    2.0       1.0        1.0   85.00000   \n",
       "4       Bs.As. G.B.A. Zona Sur    2.0       1.0        1.0   50.00000   \n",
       "...                        ...    ...       ...        ...        ...   \n",
       "338048               Islamabad    1.0       3.0        0.0  313.63196   \n",
       "338049               Islamabad    7.0       2.0        0.0  313.63196   \n",
       "338050               Islamabad    1.0       6.0        6.0  505.85700   \n",
       "338051               Islamabad    4.0       2.0        2.0   68.29083   \n",
       "338052               Islamabad    7.0       3.0        1.0    0.00000   \n",
       "\n",
       "           price  property_type        page_url   purpose  \n",
       "0       153000.0     Department  www.kaggle.com  For Sale  \n",
       "1       159000.0      Penthouse  www.kaggle.com  For Sale  \n",
       "2       125000.0      Penthouse  www.kaggle.com  For Sale  \n",
       "3       295000.0      Penthouse  www.kaggle.com  For Sale  \n",
       "4        40000.0      Penthouse  www.kaggle.com  For Sale  \n",
       "...          ...            ...             ...       ...  \n",
       "338048     252.0  Upper Portion  www.zameen.com  For Rent  \n",
       "338049     144.0  Upper Portion  www.zameen.com  For Rent  \n",
       "338050     576.0          House  www.zameen.com  For Rent  \n",
       "338051      90.0           Flat  www.zameen.com  For Rent  \n",
       "338052      93.6  Upper Portion  www.zameen.com  For Rent  \n",
       "\n",
       "[338053 rows x 14 columns]"
      ]
     },
     "execution_count": 2,
     "metadata": {},
     "output_type": "execute_result"
    }
   ],
   "source": [
    "df = pd.read_csv(\"realstate_data-v1.csv\")\n",
    "df"
   ]
  },
  {
   "cell_type": "code",
   "execution_count": 3,
   "id": "ccd73a44-22d0-4a07-bfb0-9d6bd5baff33",
   "metadata": {
    "tags": []
   },
   "outputs": [],
   "source": [
    "#df[\"date_added\"] = pd.to_datetime(df[\"date_added\"])\n",
    "#px.bar((df[\"date_added\"].dt.month.value_counts()),title=\"Data gathered in times\")"
   ]
  },
  {
   "cell_type": "markdown",
   "id": "fcb12e28-40c7-4dc9-860a-4135adf77b11",
   "metadata": {},
   "source": [
    "_________________"
   ]
  },
  {
   "cell_type": "markdown",
   "id": "d676c5c5-3ce6-4050-b626-b63693b81b86",
   "metadata": {},
   "source": [
    "## Business layer"
   ]
  },
  {
   "cell_type": "markdown",
   "id": "a8aa1a16-2e8e-4d3f-b736-63a61e728f3e",
   "metadata": {},
   "source": [
    "### map plot"
   ]
  },
  {
   "cell_type": "code",
   "execution_count": 4,
   "id": "8831cc30-e48f-4d7b-8c63-2b64da156bef",
   "metadata": {
    "tags": []
   },
   "outputs": [],
   "source": [
    "def plot_map(plot_mask):\n",
    "    if plot_mask == \"0 - 100k $\":\n",
    "        \n",
    "        mask = df[\"price\"].between(0,100_000)\n",
    "            \n",
    "    elif plot_mask == \"100k - 200k $\":\n",
    "\n",
    "        mask=df[\"price\"].between(100_000,200_000)\n",
    "        \n",
    "    elif plot_mask == \"200k - 500k $\":\n",
    "\n",
    "        mask=df[\"price\"].between(200_000,500_000)\n",
    "\n",
    "    elif plot_mask == \"500k - 1Mil $\":\n",
    "        \n",
    "        mask=df[\"price\"].between(500_000,1e6)\n",
    "\n",
    "    elif plot_mask == \"1Mil - 5Mil $\":\n",
    "\n",
    "        mask = df[\"price\"].between(1e6,5e6)\n",
    "\n",
    "    elif plot_mask == \"5Mil - 10Mil $\":\n",
    "\n",
    "        mask = df[\"price\"].between(5e6,10e6)\n",
    "\n",
    "    elif plot_mask == \"10Mil - 20Mil $\":\n",
    "\n",
    "        mask = df[\"price\"].between(10e6,20e6)\n",
    "\n",
    "    elif plot_mask == \"20Mil - More $\":\n",
    "\n",
    "        mask = df[\"price\"]>=20e6\n",
    "\n",
    "    fig = px.scatter_mapbox(data_frame=df[mask],\n",
    "                            lat=\"latitude\",lon=\"longitude\",\n",
    "                            mapbox_style=\"open-street-map\",\n",
    "                            color=\"purpose\",hover_data=[\"price\",\"property_type\"],zoom=1)\n",
    "\n",
    "    return fig"
   ]
  },
  {
   "cell_type": "markdown",
   "id": "e3ab273d-46be-4859-abc7-527c89e087ae",
   "metadata": {},
   "source": [
    "### hist plot"
   ]
  },
  {
   "cell_type": "code",
   "execution_count": 5,
   "id": "4c9bc11b-e5e0-43a3-8486-7cec928b6a3b",
   "metadata": {
    "tags": []
   },
   "outputs": [],
   "source": [
    "def plot_hist(country):\n",
    "    if country == \"Argentina\":\n",
    "        mask = df[\"country\"]==\"Argentina\"\n",
    "    elif country == \"Pakistan\":\n",
    "        mask = df[\"country\"]==\"Pakistan\"\n",
    "        \n",
    "    fig = px.histogram(data_frame=df[mask][\"price\"])\n",
    "    fig.update_layout(xaxis_title=\"Range of prices\",yaxis_title=\"Count\",showlegend=False)\n",
    "    \n",
    "    return fig"
   ]
  },
  {
   "cell_type": "markdown",
   "id": "897367f0-085b-47be-a78a-ef780e66795c",
   "metadata": {},
   "source": [
    "### Bar plot"
   ]
  },
  {
   "cell_type": "code",
   "execution_count": 6,
   "id": "68556554-0d4f-4b5f-a7c9-23995da66fbd",
   "metadata": {
    "tags": []
   },
   "outputs": [],
   "source": [
    "def plot_bar(country):\n",
    "    if country == \"Argentina\":\n",
    "        mask = df[\"country\"]==\"Argentina\"\n",
    "    elif country == \"Pakistan\":\n",
    "        mask = (df[\"country\"]==\"Pakistan\")&(df[\"purpose\"]==\"For Sale\")\n",
    "    else:\n",
    "        mask=df.columns\n",
    "        \n",
    "    fig = px.bar((df[mask][\"property_type\"]).value_counts(),color=((df[mask][\"property_type\"]).value_counts()).index)\n",
    "    fig.update_layout(xaxis_title=\"property types\",yaxis_title=\"Count\")    \n",
    "    \n",
    "    return fig"
   ]
  },
  {
   "cell_type": "code",
   "execution_count": 7,
   "id": "f0ef1aeb-ae79-4fbf-8ea0-510aca664d6c",
   "metadata": {},
   "outputs": [],
   "source": [
    "def stakeholder_bar():\n",
    "    fig = px.bar(df[\"page_url\"].value_counts(),title=\"data source\",color=df[\"page_url\"].value_counts().index)\n",
    "    fig.update_layout(xaxis_title=\"Source\",yaxis_title=\"Count\")\n",
    "    return fig"
   ]
  },
  {
   "cell_type": "code",
   "execution_count": 8,
   "id": "a9ca4275-4564-447a-adae-79817d8f683d",
   "metadata": {},
   "outputs": [],
   "source": [
    "def stakeholder_time_data():\n",
    "    df[\"date_added\"] = pd.to_datetime(df[\"date_added\"])\n",
    "    segment = df[\"date_added\"]\n",
    "    fig = px.bar(segment.value_counts(),title=\"Data gathered in times\")\n",
    "    fig.update_layout(xaxis_title=\"Time\",yaxis_title=\"Count\")\n",
    "    return fig"
   ]
  },
  {
   "cell_type": "markdown",
   "id": "4e0fc0b2-48f8-47bd-850d-bf2bec06273f",
   "metadata": {},
   "source": [
    "## Application and presentational layer of the web page"
   ]
  },
  {
   "cell_type": "code",
   "execution_count": 9,
   "id": "2bd01687-0b04-475a-8047-018ebef626b9",
   "metadata": {},
   "outputs": [],
   "source": [
    "app = JupyterDash(__name__)\n",
    "\n",
    "app.layout = html.Div(\n",
    "    [\n",
    "        html.Div([html.H1(\"Decision support application (real state)\"),\n",
    "        html.Img(src=\"https://user-images.githubusercontent.com/59618586/236200762-55055a25-bd3f-4b21-b292-674164f9db67.jpg\")]),\n",
    "        \n",
    "        html.Br(),\n",
    "        html.H3(\"choose range of prices\"),\n",
    "        dcc.Dropdown(\n",
    "            options=[\"0 - 100k $\",\"100k - 200k $\",\"200k - 500k $\",\n",
    "                     \"500k - 1Mil $\",\"1Mil - 5Mil $\",\"5Mil - 10Mil $\",\"10Mil - 20Mil $\",\"20Mil - More $\"],\n",
    "            value=\"0 - 100k $\",\n",
    "            id=\"demo-plots-dropdown\",\n",
    "        ),\n",
    "        html.Div(dcc.Graph(id=\"demo-plot-display\")),\n",
    "        html.Br(),\n",
    "        \n",
    "        html.H1(\"Histogram\"),\n",
    "        html.H3(\"choose a country\"),\n",
    "        dcc.Dropdown(\n",
    "            options=[\"Argentina\",\"Pakistan\"],\n",
    "            value=\"Argentina\",\n",
    "            id=\"hist-dropdown\"\n",
    "        ),\n",
    "        html.Div(dcc.Graph(id=\"hist-display\")),\n",
    "        html.Br(),\n",
    "        \n",
    "        html.H3(\"Average prices of real state being sold in Argentina\"),\n",
    "        html.H4(\"241221.080 $\"),\n",
    "        html.H3(\"Average prices of real state being sold in Pakistan\"),\n",
    "        html.H4(\"89048.779 $\"),\n",
    "        html.H3(\"Average prices of real state being rented in Pakistan\"),\n",
    "        html.H4(\"328.091 $\"),\n",
    "        html.Br(),\n",
    "        \n",
    "        html.H1(\"bar plot of real state types\"),\n",
    "        html.H3(\"choose a country\"),\n",
    "        dcc.Dropdown(\n",
    "            options=[\"Argentina\",\"Pakistan\",\"Overall\"],\n",
    "            value=\"Argentina\",\n",
    "            id=\"bar-dropdown\"\n",
    "        ),\n",
    "        html.Div(dcc.Graph(id=\"bar-display\")),\n",
    "        html.Hr(),\n",
    "        \n",
    "        html.H1(\"Stakeholder Data prespection\"),\n",
    "        html.H2(\"data source\"),\n",
    "        html.Div([dcc.Graph(figure=stakeholder_bar())]),\n",
    "        \n",
    "        html.Br(),\n",
    "        html.H2(\"data gathering in times\"),\n",
    "        html.Div([dcc.Graph(figure=stakeholder_time_data())])])\n",
    "        \n",
    "\n",
    "\n",
    "@app.callback(Output(\"demo-plot-display\",\"figure\"),Input(\"demo-plots-dropdown\",\"value\"))\n",
    "def display_demo_graph(plot_mask):\n",
    "    \n",
    "    fig = plot_map(plot_mask)\n",
    "    \n",
    "    return fig\n",
    "\n",
    "@app.callback(Output(\"hist-display\",\"figure\"),Input(\"hist-dropdown\",\"value\"))\n",
    "def diplay_hist(country):\n",
    "    fig = plot_hist(country)\n",
    "    \n",
    "    return fig\n",
    "\n",
    "@app.callback(Output(\"bar-display\",\"figure\"),Input(\"bar-dropdown\",\"value\"))\n",
    "def diplay_hist(country):\n",
    "    fig = plot_bar(country)\n",
    "    \n",
    "    return fig"
   ]
  },
  {
   "cell_type": "markdown",
   "id": "9c9e7105-74bb-4703-ae40-f90b99ed29f5",
   "metadata": {},
   "source": [
    "### Hosting locally"
   ]
  },
  {
   "cell_type": "code",
   "execution_count": 10,
   "id": "4fd4ecb8-8ddc-4fcf-a8ea-0cde54d93e9f",
   "metadata": {},
   "outputs": [
    {
     "name": "stdout",
     "output_type": "stream",
     "text": [
      "Dash is running on http://127.0.0.1:8050/\n",
      "\n",
      "Dash app running on http://127.0.0.1:8050/\n"
     ]
    }
   ],
   "source": [
    "hostt = app.run_server(mode=\"external\")"
   ]
  },
  {
   "cell_type": "markdown",
   "id": "64abefe8-b129-4baf-bd4b-c0dad9501927",
   "metadata": {},
   "source": [
    "### hosting globally"
   ]
  },
  {
   "cell_type": "code",
   "execution_count": 11,
   "id": "44e89d9e-99db-4b0c-9046-d138f274862f",
   "metadata": {},
   "outputs": [
    {
     "name": "stderr",
     "output_type": "stream",
     "text": [
      "t=2023-05-10T12:01:38+0200 lvl=warn msg=\"ngrok config file found at legacy location, move to XDG location\" xdg_path=C:\\\\Users\\\\ahmed\\\\AppData\\\\Local/ngrok/ngrok.yml legacy_path=C:\\\\Users\\\\ahmed\\\\.ngrok2\\\\ngrok.yml\n"
     ]
    }
   ],
   "source": [
    "from pyngrok import ngrok\n",
    "http_tunnel = ngrok.connect(\"http://127.0.0.1:8050/\")"
   ]
  },
  {
   "cell_type": "code",
   "execution_count": 12,
   "id": "f32b836b-9926-4bed-87b2-d5436bf91c5b",
   "metadata": {},
   "outputs": [
    {
     "data": {
      "image/png": "[encoded data removed]",
      "text/plain": [
       "<qrcode.image.pil.PilImage at 0x22abca53850>"
      ]
     },
     "execution_count": 12,
     "metadata": {},
     "output_type": "execute_result"
    }
   ],
   "source": [
    "import qrcode\n",
    "qrcode.make(http_tunnel.public_url)"
   ]
  },
  {
   "cell_type": "code",
   "execution_count": 13,
   "id": "43dfc15e-d35c-4a9f-8744-c8d2a1486cf5",
   "metadata": {},
   "outputs": [
    {
     "data": {
      "text/plain": [
       "'https://de07-196-132-47-230.ngrok-free.app'"
      ]
     },
     "execution_count": 13,
     "metadata": {},
     "output_type": "execute_result"
    }
   ],
   "source": [
    "http_tunnel.public_url"
   ]
  },
  {
   "cell_type": "code",
   "execution_count": null,
   "id": "bd26687b-b89f-4e48-b55a-272955726c9b",
   "metadata": {},
   "outputs": [],
   "source": []
  },
  {
   "cell_type": "code",
   "execution_count": null,
   "id": "75a4f8de-a0fc-4143-8af7-390eef786e57",
   "metadata": {},
   "outputs": [],
   "source": []
  },
  {
   "cell_type": "code",
   "execution_count": null,
   "id": "5cc8f315-8f9b-427d-9f2a-4e7fd37659b3",
   "metadata": {},
   "outputs": [],
   "source": []
  }
 ],
 "metadata": {
  "kernelspec": {
   "display_name": "Python 3 (ipykernel)",
   "language": "python",
   "name": "python3"
  },
  "language_info": {
   "codemirror_mode": {
    "name": "ipython",
    "version": 3
   },
   "file_extension": ".py",
   "mimetype": "text/x-python",
   "name": "python",
   "nbconvert_exporter": "python",
   "pygments_lexer": "ipython3",
   "version": "3.9.13"
  }
 },
 "nbformat": 4,
 "nbformat_minor": 5
}
